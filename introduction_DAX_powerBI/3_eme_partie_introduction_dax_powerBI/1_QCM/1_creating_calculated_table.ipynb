{
 "cells": [
  {
   "cell_type": "markdown",
   "metadata": {},
   "source": [
    "Creating a calculated table\n",
    "\n",
    "Creating calculated tables are common in Power BI to help extend your data model.\n",
    "\n",
    "The Head of Business Intelligence has agreed that it's necessary to have a dedicated date table and would like you to use a DAX function to create this table based on the dates "
   ]
  },
  {
   "cell_type": "markdown",
   "metadata": {},
   "source": [
    "![si ça n'affiche pas, regardez dossier img](1_QCM/img/reponse.png)"
   ]
  }
 ],
 "metadata": {
  "language_info": {
   "name": "python"
  }
 },
 "nbformat": 4,
 "nbformat_minor": 2
}
