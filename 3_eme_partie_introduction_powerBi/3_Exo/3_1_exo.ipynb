{
 "cells": [
  {
   "cell_type": "markdown",
   "metadata": {},
   "source": [
    "Sorting data\n",
    "\n",
    "Sorting is a common method used for visualizing data in a form that makes it easier to comprehend the story the data is telling. It's your job to sort the months in the bar chart in the correct order, from January to December. \n",
    "\n",
    "This will make it easier to interpret the visual and look at amount changes over time.\n",
    "\n"
   ]
  },
  {
   "cell_type": "markdown",
   "metadata": {},
   "source": [
    "### instruction 1\n",
    "\n",
    "Close any open reports and open the\n",
    "`3_3_sorting_data.pbix` report from the `Exercises` folder on the desktop."
   ]
  },
  {
   "cell_type": "markdown",
   "metadata": {},
   "source": [
    "### instruction 2\n",
    "\n",
    "Go to the *Data View* to make sure that `ShortMonth` in the `DimDate` table is ordered by `MonthNumber`."
   ]
  },
  {
   "cell_type": "markdown",
   "metadata": {},
   "source": [
    "### instruction 3\n",
    "\n",
    "Go back to the report and sort the columns in the Monthly Amount visual by month instead of amount."
   ]
  },
  {
   "cell_type": "markdown",
   "metadata": {},
   "source": [
    "### instruction 4\n",
    "\n",
    "Sort the months in ascendig order "
   ]
  },
  {
   "cell_type": "markdown",
   "metadata": {},
   "source": [
    "### instruction 5\n",
    "\n",
    "Question: How is the sales amount evolving\n",
    "throughout the year?\n",
    "\n",
    "1 There is a downwards trend.\n",
    "\n",
    "2 There is an upwards trend.\n",
    "\n",
    "3 The amount stays the same."
   ]
  },
  {
   "cell_type": "markdown",
   "metadata": {},
   "source": []
  },
  {
   "cell_type": "markdown",
   "metadata": {},
   "source": []
  },
  {
   "cell_type": "markdown",
   "metadata": {},
   "source": []
  },
  {
   "cell_type": "markdown",
   "metadata": {},
   "source": []
  },
  {
   "cell_type": "markdown",
   "metadata": {},
   "source": [
    "2"
   ]
  }
 ],
 "metadata": {
  "language_info": {
   "name": "python"
  }
 },
 "nbformat": 4,
 "nbformat_minor": 2
}
