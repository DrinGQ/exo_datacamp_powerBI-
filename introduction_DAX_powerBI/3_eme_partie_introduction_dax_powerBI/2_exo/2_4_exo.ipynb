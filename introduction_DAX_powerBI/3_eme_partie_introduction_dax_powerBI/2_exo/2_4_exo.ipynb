{
 "cells": [
  {
   "cell_type": "markdown",
   "metadata": {},
   "source": [
    "Year-over-year change\n",
    "\n",
    "In the last exercise, you created a quick measure\n",
    "`Total Sales QoQ%` that calculated Quarter-over-quarter change in Total Sales.\n",
    "\n",
    "The senior management team would like to understand year-over-year changes in number of sales, therefore, you need to create a copy of the `Total Sales QoQ%` measure and adjust it to calculate year-over-year changes.\n",
    "\n",
    "If you lost progress, close any open reports and load `3_4_year_over_year.pbix` from the Exercises folder\n",
    "\n"
   ]
  },
  {
   "cell_type": "markdown",
   "metadata": {},
   "source": [
    "### instruction 1\n",
    "\n",
    "Add a new page and call it \"YoY\""
   ]
  },
  {
   "cell_type": "markdown",
   "metadata": {},
   "source": [
    "### instruction 2\n",
    "\n",
    "In the `Calculations` table, review the DAX from the quick measure `Total Sales QoQ%` that you created in the last exercise.\n",
    "\n",
    "Now duplicate this measure and rename it\n",
    "`Sales Count YoY%`"
   ]
  },
  {
   "cell_type": "markdown",
   "metadata": {},
   "source": [
    "### instruction 3\n",
    "\n",
    "Adjust the query to calculate YoY growth for **SalesCount** and format as a percentage."
   ]
  },
  {
   "cell_type": "markdown",
   "metadata": {},
   "source": [
    "### instruction 4\n",
    "\n",
    "Create a Line chart that shows `Sales Count YoY%` by year using `Dates[Date]` hierarchy."
   ]
  },
  {
   "cell_type": "markdown",
   "metadata": {},
   "source": [
    "### instruction 5\n",
    "\n",
    "According to the graph you just created, what was the Sales Count YoY% for the 2019?\n"
   ]
  },
  {
   "cell_type": "markdown",
   "metadata": {},
   "source": [
    "réponse = 358.29 "
   ]
  }
 ],
 "metadata": {
  "language_info": {
   "name": "python"
  }
 },
 "nbformat": 4,
 "nbformat_minor": 2
}
