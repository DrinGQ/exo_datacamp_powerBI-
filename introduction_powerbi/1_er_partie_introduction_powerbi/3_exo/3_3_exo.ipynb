{
 "cells": [
  {
   "cell_type": "markdown",
   "metadata": {},
   "source": [
    "Table\n",
    "\n",
    "Let's add a table to our report with the details of sales\n",
    "transactions. With the interactivity of Power BI, this will\n",
    "allow us to see examples of sales based on our selection.\n",
    "\n",
    "*If you lost progress, close any open reports and load\n",
    "`1_5_table.pbix` from the Exercises folder on the desktop.*\n",
    "\n"
   ]
  },
  {
   "cell_type": "markdown",
   "metadata": {},
   "source": [
    "### instruction 1\n",
    "\n",
    "De-select any selected visualization and add a table. If\n",
    "you don't have space you can make the bar chart smaller,\n",
    "so you can add a table at the bottom of the page."
   ]
  },
  {
   "cell_type": "markdown",
   "metadata": {},
   "source": [
    "### instruction 2\n",
    "\n",
    "Add the dimension field `Employee` to the table"
   ]
  },
  {
   "cell_type": "markdown",
   "metadata": {},
   "source": [
    "### instruction 3 \n",
    "\n",
    "Add the fact fields to the table : `Description`, `Quantity`, `Total Including Tax`, `Profit` "
   ]
  },
  {
   "cell_type": "markdown",
   "metadata": {},
   "source": [
    "### instruction 4\n",
    "\n",
    ". Add a text box to clearly title the report \"Sales\n",
    "Data\" and arrange the report to your liking.\n",
    "\n",
    ". Change the name of the page tab to contain the\n",
    "same name as the title."
   ]
  },
  {
   "cell_type": "markdown",
   "metadata": {},
   "source": [
    "### instruction 5\n",
    "\n",
    "**Using the table's total row, how much \"Total Including Tax\" did \"Sophia Hinton\" generate in 2016?**"
   ]
  },
  {
   "cell_type": "markdown",
   "metadata": {},
   "source": []
  },
  {
   "cell_type": "markdown",
   "metadata": {},
   "source": []
  },
  {
   "cell_type": "markdown",
   "metadata": {},
   "source": []
  },
  {
   "cell_type": "markdown",
   "metadata": {},
   "source": [
    "309,004.06"
   ]
  }
 ],
 "metadata": {
  "language_info": {
   "name": "python"
  }
 },
 "nbformat": 4,
 "nbformat_minor": 2
}
