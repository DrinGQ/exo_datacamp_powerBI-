{
 "cells": [
  {
   "cell_type": "markdown",
   "metadata": {},
   "source": [
    "Changing visuals\n",
    "\n",
    "Time to get to work! You are going to change and format visuals. \n",
    "\n",
    "First, you'll turn the donut chart into a tree map to get a better understanding of the product categories.\n",
    "\n",
    "Then, you'll change the simple card visual to a multi-row card so that it's possible to closely track the actual, forecasted, and budgeted amounts.\n"
   ]
  },
  {
   "cell_type": "markdown",
   "metadata": {},
   "source": [
    "### instruction 1\n",
    "\n",
    "Close any open reports and open the\n",
    "`3_1_changing_visuals.pbix` report from the `Exercises` folder on the desktop."
   ]
  },
  {
   "cell_type": "markdown",
   "metadata": {},
   "source": [
    "### instruction 2\n",
    "\n",
    "Change the donut chart to a tree map"
   ]
  },
  {
   "cell_type": "markdown",
   "metadata": {},
   "source": [
    "### instruction 3\n",
    "\n",
    "Go into the formatting settings and set the title of the chart to `Product Category Amount` with a size of 16."
   ]
  },
  {
   "cell_type": "markdown",
   "metadata": {},
   "source": [
    "### instruction 4\n",
    "\n",
    "Change the card in the top left hand corner to a multi-row card, and add `ScenarioName` to it."
   ]
  },
  {
   "cell_type": "markdown",
   "metadata": {},
   "source": [
    "### instruction 5\n",
    "\n",
    "What is the total forecasted sales amount (answer format: $1.111B)?\n"
   ]
  },
  {
   "cell_type": "markdown",
   "metadata": {},
   "source": []
  },
  {
   "cell_type": "markdown",
   "metadata": {},
   "source": []
  },
  {
   "cell_type": "markdown",
   "metadata": {},
   "source": []
  },
  {
   "cell_type": "markdown",
   "metadata": {},
   "source": []
  },
  {
   "cell_type": "markdown",
   "metadata": {},
   "source": [
    "$18.127B"
   ]
  }
 ],
 "metadata": {
  "language_info": {
   "name": "python"
  }
 },
 "nbformat": 4,
 "nbformat_minor": 2
}
