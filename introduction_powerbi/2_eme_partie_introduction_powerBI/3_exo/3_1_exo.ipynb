{
 "cells": [
  {
   "cell_type": "markdown",
   "metadata": {},
   "source": [
    "Transforming columns\n",
    "\n",
    "Earlier you practiced cleaning data at row-level, like\n",
    "deleting erroneous rows or changing the header row. Now,\n",
    "we'll take a look at issues at the column-level.\n",
    "\n",
    "*If you lost progress, close any open reports and load\n",
    "`2_3_transforming_columns.pbix` from the Exercises\n",
    "folder on the desktop.*\n"
   ]
  },
  {
   "cell_type": "markdown",
   "metadata": {},
   "source": [
    "### instruction 1\n",
    "\n",
    ". Make sure no bars are selected on the bar graph.\n",
    "\n",
    ". Create a Card visualization with the value\n",
    "`Credit Limit` from `DimCustomer` ."
   ]
  },
  {
   "cell_type": "markdown",
   "metadata": {},
   "source": [
    "### instruction 2\n",
    "The card should show **? -**, which is unexpected! Edit the query of `DimCustomer` to open up the Power Query Editor and fix the `Credit Limit` column."
   ]
  },
  {
   "cell_type": "markdown",
   "metadata": {},
   "source": [
    "### instruction 3\n",
    "\n",
    ". Replace values so that `?` s are replaced with blanks\n",
    "in `Credit Limit`.\n",
    "\n",
    ". Repeat so that `-` s are replaced with blanks for the\n",
    "`Credit Limit` column."
   ]
  },
  {
   "cell_type": "markdown",
   "metadata": {},
   "source": [
    "### instruction 4\n",
    "\n",
    "Change the data type of `Credit Limit` from *Text to Decimal Number.*"
   ]
  },
  {
   "cell_type": "markdown",
   "metadata": {},
   "source": [
    "### instruction 5\n",
    "\n",
    "Close and apply and return to the *Report view*. In the card, change the value to be the **average** `Credit Limit`."
   ]
  },
  {
   "cell_type": "markdown",
   "metadata": {},
   "source": [
    "### instruction 6\n",
    "\n",
    "**What is the average credit card limit of a Wide World Importers customer (answer format: $11.11K)?**"
   ]
  },
  {
   "cell_type": "markdown",
   "metadata": {},
   "source": []
  },
  {
   "cell_type": "markdown",
   "metadata": {},
   "source": []
  },
  {
   "cell_type": "markdown",
   "metadata": {},
   "source": []
  },
  {
   "cell_type": "markdown",
   "metadata": {},
   "source": []
  },
  {
   "cell_type": "markdown",
   "metadata": {},
   "source": [
    "$99.53K"
   ]
  }
 ],
 "metadata": {
  "language_info": {
   "name": "python"
  }
 },
 "nbformat": 4,
 "nbformat_minor": 2
}
