{
 "cells": [
  {
   "cell_type": "markdown",
   "metadata": {},
   "source": [
    "Adding a filter\n",
    "\n",
    "Filtering is an important tool when you're creating PowerBI reports. \n",
    "\n",
    "You don't always want to look at all of the data.\n",
    "\n",
    "Limiting the data used in visuals to only a selection that is relevant can help you answer more detailed business questions.\n",
    "\n",
    "In the report, you can see that the cards on the\n",
    "`Sales Analysis` page tab are labeled `Actual`,\n",
    "`Forecast` , and `Budget` , but they all have the same values. \n",
    "\n",
    "You'll need to apply some filters to fix this.\n",
    "\n"
   ]
  },
  {
   "cell_type": "markdown",
   "metadata": {},
   "source": [
    "### instruction 1\n",
    "\n",
    "Close any open reports and open the\n",
    "`4_3_adding_a_filter.pbix` report from the `Exercises` folder on the desktop."
   ]
  },
  {
   "cell_type": "markdown",
   "metadata": {},
   "source": [
    "### instruction 2\n",
    "\n",
    ". Open the *Filters* pane.\n",
    "\n",
    ". Add a filter to the \"Actual\" card visual that filters on rows where `ScenarioName` is equal to `Actual`."
   ]
  },
  {
   "cell_type": "markdown",
   "metadata": {},
   "source": [
    "### instruction 3\n",
    "\n",
    "Add a filter to the \"Forecast\" card visual that filters on rows where `ScenarioName` is equal to `Forecast`"
   ]
  },
  {
   "cell_type": "markdown",
   "metadata": {},
   "source": [
    "### instruction 4\n",
    "\n",
    "Add a filter to the \"Budget\" card visual that filters on rows where `ScenaarioName` is equal to `Budget`"
   ]
  },
  {
   "cell_type": "markdown",
   "metadata": {},
   "source": [
    "### instruction 5\n",
    "\n",
    "Question: What was the total forecasted amount?\n",
    "\n",
    "1 53.64bn\n",
    "\n",
    "2 18.34bn\n",
    "\n",
    "3 18.13bn\n",
    "\n",
    "4 17.17bn"
   ]
  },
  {
   "cell_type": "markdown",
   "metadata": {},
   "source": []
  },
  {
   "cell_type": "markdown",
   "metadata": {},
   "source": []
  },
  {
   "cell_type": "markdown",
   "metadata": {},
   "source": []
  },
  {
   "cell_type": "markdown",
   "metadata": {},
   "source": [
    "3"
   ]
  }
 ],
 "metadata": {
  "language_info": {
   "name": "python"
  }
 },
 "nbformat": 4,
 "nbformat_minor": 2
}
