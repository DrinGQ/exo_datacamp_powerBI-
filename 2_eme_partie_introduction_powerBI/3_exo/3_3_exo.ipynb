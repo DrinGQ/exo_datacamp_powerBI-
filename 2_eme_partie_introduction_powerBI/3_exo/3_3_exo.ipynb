{
 "cells": [
  {
   "cell_type": "markdown",
   "metadata": {},
   "source": [
    "Making maps with geographic data\n",
    "\n",
    "Maps are an engaging way to present data with a\n",
    "geographic layer. Imagine we wanted to depict the profit\n",
    "each state in the US generates. We could create a bar\n",
    "chart showing the states and the profit they generate.\n",
    "However, since there are 50 states, a map is much easier\n",
    "to scan for patterns and outliers.\n",
    "\n",
    "*If you lost progress, close any open reports and load `2_5_making_maps.pbix` from the Exercises folder on the desktop.*\n",
    "\n"
   ]
  },
  {
   "cell_type": "markdown",
   "metadata": {},
   "source": [
    "### instruction 1 \n",
    "\n",
    ". Load the dimension table `DimCity.csv` from the\n",
    "`Datasets/WWI` folder on the Desktop.\n",
    "\n",
    ". Go to the *Model view* and make sure a relationship\n",
    "is found between `DimCity` and `FactSale`."
   ]
  },
  {
   "cell_type": "markdown",
   "metadata": {},
   "source": [
    "### instruction 2\n",
    "\n",
    "In the *Data view*, change the `Data category` of `DimCity` 's\n",
    "`State Province` to \"State or Province\"."
   ]
  },
  {
   "cell_type": "markdown",
   "metadata": {},
   "source": [
    "### instruction 3\n",
    "\n",
    "Make sure the default summarization for `Profit` from\n",
    "`FactSale` is \"Average\".\n"
   ]
  },
  {
   "cell_type": "markdown",
   "metadata": {},
   "source": [
    "### instruction 4\n",
    "\n",
    ". In the *Report view*, navigate to the second tab.\n",
    "\n",
    ". Create a *Map visualization* using `State Province`\n",
    "as *Location* and `Profit` as *Bubble size*.\n"
   ]
  },
  {
   "cell_type": "markdown",
   "metadata": {},
   "source": [
    "### instruction 5\n",
    "\n",
    "Add a *Slicer* for the `Buying Group` field from the\n",
    "`DimCustomer` table. Arrange the report to your liking and\n",
    "add a title."
   ]
  },
  {
   "cell_type": "markdown",
   "metadata": {},
   "source": [
    "### instruction 6\n",
    "\n",
    "Using the map and the slicer, which state\n",
    "generates the highest average profit for the\n",
    "\"Wingtip Toys\"?\n",
    "\n",
    "1 Washington\n",
    "\n",
    "2 Oregon\n",
    "\n",
    "3 Alaska\n",
    "\n",
    "4 California\n"
   ]
  },
  {
   "cell_type": "markdown",
   "metadata": {},
   "source": []
  },
  {
   "cell_type": "markdown",
   "metadata": {},
   "source": []
  },
  {
   "cell_type": "markdown",
   "metadata": {},
   "source": []
  },
  {
   "cell_type": "markdown",
   "metadata": {},
   "source": []
  },
  {
   "cell_type": "markdown",
   "metadata": {},
   "source": [
    "1"
   ]
  }
 ],
 "metadata": {
  "language_info": {
   "name": "python"
  }
 },
 "nbformat": 4,
 "nbformat_minor": 2
}
