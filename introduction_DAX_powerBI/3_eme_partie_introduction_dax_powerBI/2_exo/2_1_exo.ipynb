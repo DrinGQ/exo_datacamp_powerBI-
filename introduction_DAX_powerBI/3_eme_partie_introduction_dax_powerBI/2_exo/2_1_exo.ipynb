{
 "cells": [
  {
   "cell_type": "markdown",
   "metadata": {},
   "source": [
    "Expanding the Date table\n",
    "\n",
    "In our previous lessons, we discussed the importance of having a well formatted Date table. \n",
    "\n",
    "A Date table has already been created using the `CALENDAR()` function that takes in two arguments.\n",
    "\n",
    "For our Date table, we have generated dates from the first order date to the latest order date. \n",
    "\n",
    "Some columns have already been created, but we are going to expand on this by creating new columns using date and text functions to work out which day of the week a particular day is."
   ]
  },
  {
   "cell_type": "markdown",
   "metadata": {},
   "source": [
    "### instruction 1\n",
    "\n",
    "Open `3_1_extending_date_table.pbix`\n",
    "from the Exercises folder on the Desktop.\n",
    "\n",
    "Rename `Page 1` and call it \"Date Table\"."
   ]
  },
  {
   "cell_type": "markdown",
   "metadata": {},
   "source": [
    "### instruction 2\n",
    "\n",
    "Create a new column in the Dates table called `DayNo` that uses the `DAY()` function to calculate the day number in the month. \n",
    "\n",
    "Use `Dates[Date]` for this new column."
   ]
  },
  {
   "cell_type": "markdown",
   "metadata": {},
   "source": [
    "### instruction 3\n",
    "\n",
    "Create a new column in `Dates` called `DayShortName` that uses `FORMAT()` with `Dates[Date]` to return the 3 letter short name for days (\"ddd\")."
   ]
  },
  {
   "cell_type": "markdown",
   "metadata": {},
   "source": [
    "### instruction 4\n",
    "\n",
    "In the Report view, create a Table that shows `Date` (without hierarchy) and `DayShortName`\n",
    "\n",
    "To show `Date` without the hierarchy, this can be done by using the drop-down on `Date` by clicking the arrow next to it and selecting *Date* instead of *Date Hierarchy*."
   ]
  },
  {
   "cell_type": "markdown",
   "metadata": {},
   "source": [
    "### instruction 5\n",
    "\n",
    "What day of the week is July 1st 2017 (07/01/2017)?\n"
   ]
  },
  {
   "cell_type": "markdown",
   "metadata": {},
   "source": [
    "reponse = saturday"
   ]
  }
 ],
 "metadata": {
  "language_info": {
   "name": "python"
  }
 },
 "nbformat": 4,
 "nbformat_minor": 2
}
