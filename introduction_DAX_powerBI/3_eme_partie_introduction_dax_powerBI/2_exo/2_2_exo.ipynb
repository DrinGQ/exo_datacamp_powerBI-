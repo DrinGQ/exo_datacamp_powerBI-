{
 "cells": [
  {
   "cell_type": "markdown",
   "metadata": {},
   "source": [
    "DATEDIFF\n",
    "\n",
    "The logistics team at Adventure Works would like to understand the timeline from customers making an order to the delivery being due. \n",
    "\n",
    "We'll be utilizing the `DATEDIFF()` function to calculate the difference.\n",
    "\n",
    "**Note**: Date/Time data in Power Bl can change based on your geographical location. \n",
    "\n",
    "All dates in the exercises are based on US geographical location, so have been created and formatted as month/day/year.\n",
    "\n",
    "*If you lost progress, close any open reports and load `3_2_date_diff.pbix` from the Exercises folder.*"
   ]
  },
  {
   "cell_type": "markdown",
   "metadata": {},
   "source": [
    "### instruction 1\n",
    "\n",
    "For this exerise, add a new page and call it \"DateDiff\""
   ]
  },
  {
   "cell_type": "markdown",
   "metadata": {},
   "source": [
    "### instruction 2\n",
    "\n",
    "Create a new column in the `Sales` table called\n",
    "`Order2Delivery` that calculates the number of days between Order Date and Delivery Due Date."
   ]
  },
  {
   "cell_type": "markdown",
   "metadata": {},
   "source": [
    "### instruction 3\n",
    "\n",
    "Create a Card Visual that shows the **average** of `Order2Delivery`"
   ]
  },
  {
   "cell_type": "markdown",
   "metadata": {},
   "source": [
    "### instruction 4\n",
    "\n",
    "What is the average number of days a customer has to wait from their order date to delivery due date?\n"
   ]
  },
  {
   "cell_type": "markdown",
   "metadata": {},
   "source": [
    "réponse = 7.47"
   ]
  }
 ],
 "metadata": {
  "language_info": {
   "name": "python"
  }
 },
 "nbformat": 4,
 "nbformat_minor": 2
}
