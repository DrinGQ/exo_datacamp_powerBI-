{
 "cells": [
  {
   "cell_type": "markdown",
   "metadata": {},
   "source": [
    "Sales count\n",
    "\n",
    "In the previous exercise, we created a calculated column to find the profit for each transaction. \n",
    "\n",
    "Now, we will be utilizing a count function to understand the general trend of orders since Adventure Works started operating.\n",
    "\n",
    "*If you lost progress, close any open reports and load `1_2_sales_count.pbix` from the Exercises folder.*\n",
    "\n"
   ]
  },
  {
   "cell_type": "markdown",
   "metadata": {},
   "source": [
    "### instruction 1\n",
    "\n",
    "For this exercices, create a new page in the report called \"Sales Count\""
   ]
  },
  {
   "cell_type": "markdown",
   "metadata": {},
   "source": [
    "### instruction 2\n",
    "\n",
    "Throughout this course you will discover a variety of new functions. \n",
    "\n",
    "Create a new measure `SalesCount` inside the `_Calculations` table which uses the `DISTINCTCOUNT()`\n",
    "function on the column that contains order numbers."
   ]
  },
  {
   "cell_type": "markdown",
   "metadata": {},
   "source": [
    "### instruction 3\n",
    "\n",
    "Create a Line chart to show the `SalesCount`\n",
    "`Order Date` hierarchy.\n",
    "\n",
    "By default, it has drilled down to the lowest level in the hierarchy. \n",
    "\n",
    "Use the chart drill feature to \"Drill Up one level to see the Month Year view."
   ]
  },
  {
   "cell_type": "markdown",
   "metadata": {},
   "source": [
    "### instruction 4\n",
    "\n",
    "In which month year do we see our largest number of orders?\n"
   ]
  },
  {
   "cell_type": "markdown",
   "metadata": {},
   "source": [
    "réponse = May 2020"
   ]
  }
 ],
 "metadata": {
  "language_info": {
   "name": "python"
  }
 },
 "nbformat": 4,
 "nbformat_minor": 2
}
