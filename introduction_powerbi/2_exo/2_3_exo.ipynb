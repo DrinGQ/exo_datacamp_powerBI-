{
 "cells": [
  {
   "cell_type": "markdown",
   "metadata": {},
   "source": [
    "Add a card\n",
    "\n",
    "Let's add some more details to your report. We already\n",
    "found the quantity of items sold per year. Now, you want\n",
    "to know more about the profit made over the years. A\n",
    "card is a great choice because it's simple and adds some\n",
    "elegant interactivity.\n",
    "\n",
    "*If you lost progress, close any open reports and load `1_2_add_a_card.pbix` from the Exercises folder on thedesktop.*\n"
   ]
  },
  {
   "cell_type": "markdown",
   "metadata": {},
   "source": [
    "### instruction 1 \n",
    "\n",
    "In the *Report view*, deselect any visuals you have selected\n",
    "by clicking a blank area of the canvas."
   ]
  },
  {
   "cell_type": "markdown",
   "metadata": {},
   "source": [
    "### instruction 2 \n",
    "Select the `Profit` field from `FactSale` . A bar chart will\n",
    "get created automatically. Note that you can use the\n",
    "*Search* function in the *Fields* pane to easily locate\n",
    "columns."
   ]
  },
  {
   "cell_type": "markdown",
   "metadata": {},
   "source": [
    "### instruction 3 \n",
    "Choose the *Card* visualization to change the bar chart"
   ]
  },
  {
   "cell_type": "markdown",
   "metadata": {},
   "source": [
    "### instruction 4\n",
    "\n",
    "You should now have two visualizations in your report.\n",
    "Arrange and resize them to your liking so there is no\n",
    "overlap between the two visuals!"
   ]
  },
  {
   "cell_type": "markdown",
   "metadata": {},
   "source": [
    "### instruction 5\n",
    "\n",
    "Select the year 2014 bar. How does the profit card\n",
    "change?\n",
    "\n",
    "1 The card changes from 9.92M to 2.91M.\n",
    "\n",
    "2 The card doesn't change and displays 9.92M.\n",
    "\n",
    "3 The card changes from 9.92M to 3.16M."
   ]
  },
  {
   "cell_type": "markdown",
   "metadata": {},
   "source": []
  },
  {
   "cell_type": "markdown",
   "metadata": {},
   "source": []
  },
  {
   "cell_type": "markdown",
   "metadata": {},
   "source": []
  },
  {
   "cell_type": "markdown",
   "metadata": {},
   "source": []
  },
  {
   "cell_type": "markdown",
   "metadata": {},
   "source": []
  },
  {
   "cell_type": "markdown",
   "metadata": {},
   "source": [
    "1"
   ]
  }
 ],
 "metadata": {
  "language_info": {
   "name": "python"
  }
 },
 "nbformat": 4,
 "nbformat_minor": 2
}
