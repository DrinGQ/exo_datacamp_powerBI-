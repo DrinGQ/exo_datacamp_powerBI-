{
 "cells": [
  {
   "cell_type": "markdown",
   "metadata": {},
   "source": [
    "Profit column\n",
    "\n",
    "Adventure Works Cycles have just started their Power BI\n",
    "journey and would like to understand their yearly\n",
    "profitability.\n",
    "\n",
    "In the `Sales` table, we would like to create a column to\n",
    "see how much profit we gained from each order line. To\n",
    "calculate profit, we need to subtract the line cost from the\n",
    "line price.\n",
    "\n"
   ]
  },
  {
   "cell_type": "markdown",
   "metadata": {},
   "source": [
    "### instruction 1\n",
    "\n",
    "Everything is prepared for you right here on DataCamp,\n",
    "but if you prefer to take the course on your local version of\n",
    "Power Bl, you can download the course material here or\n",
    "on the course overview page.\n",
    "\n",
    "More information on how to take this course can be found\n",
    "in this sheet."
   ]
  },
  {
   "cell_type": "markdown",
   "metadata": {},
   "source": [
    "### instruction 2\n",
    "\n",
    "Open 1_1_profit_column.pbix from the *Exercices* folder "
   ]
  },
  {
   "cell_type": "markdown",
   "metadata": {},
   "source": [
    "### instruction 3\n",
    "\n",
    "For this exercice, rename the current Page 1 to \"Profit\""
   ]
  },
  {
   "cell_type": "markdown",
   "metadata": {},
   "source": [
    "### instruction 4\n",
    "\n",
    "Create a new column in the `Sales` table called `Profit` that subtract line cost from line price"
   ]
  },
  {
   "cell_type": "markdown",
   "metadata": {},
   "source": [
    "### instruction 5\n",
    "\n",
    "In the *Report view*, create a Clustered column chart that shows the sum of `Profit` for each order year "
   ]
  },
  {
   "cell_type": "markdown",
   "metadata": {},
   "source": [
    "### instruction 6\n",
    "\n",
    "How much profit did Adventure Works Cycles\n",
    "generate in 2019?\n",
    "\n",
    "1 $4.44M\n",
    "\n",
    "2 $2.59M\n",
    "\n",
    "3 $3.49M\n",
    "\n",
    "4 $154"
   ]
  },
  {
   "cell_type": "markdown",
   "metadata": {},
   "source": [
    "Réponse = 1"
   ]
  }
 ],
 "metadata": {
  "language_info": {
   "name": "python"
  }
 },
 "nbformat": 4,
 "nbformat_minor": 2
}
