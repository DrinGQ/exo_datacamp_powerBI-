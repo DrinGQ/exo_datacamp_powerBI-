{
 "cells": [
  {
   "cell_type": "markdown",
   "metadata": {},
   "source": [
    "Applying advanced filtering\n",
    "\n",
    "Let's take our filter skills up a notch! You want to find out what the five best performing stores are in terms of sales amount. \n",
    "\n",
    "To do this you'll create a new bar chart that displays only those stores. After that, you'll use some of your formatting skills from earlier in the chapter to improve your visual.\n",
    "\n",
    "*If you lost progress, close any open reports and load `4_5_applying_advanced_filtering.pbix` from the `Exercises` folder on the desktop.*\n",
    "\n"
   ]
  },
  {
   "cell_type": "markdown",
   "metadata": {},
   "source": [
    "### instruction 1\n",
    "\n",
    "Remove the \"Budget Monthly Amount\" chart to make room"
   ]
  },
  {
   "cell_type": "markdown",
   "metadata": {},
   "source": [
    "### instruction 2 \n",
    "\n",
    "Add a clustered bar chart to the report, with the `EntityName` on the *y-axis* and the `Amount` as *X-axis*"
   ]
  },
  {
   "cell_type": "markdown",
   "metadata": {},
   "source": [
    "### instruction 3\n",
    "\n",
    ". Go to the filter pane and add a *Top N* filter on\n",
    "`EntityName` .\n",
    "\n",
    ". Show only the top five stores."
   ]
  },
  {
   "cell_type": "markdown",
   "metadata": {},
   "source": [
    "### instruction 4\n",
    "\n",
    ". Change the title of the visual to\n",
    "`Top 5 Stores by Sales`.\n",
    "\n",
    ". Try to sort the columns in ascending order. Does it make sense visually?"
   ]
  },
  {
   "cell_type": "markdown",
   "metadata": {},
   "source": [
    "### instruction 5\n",
    "\n",
    "What is the name of the 5th best performing\n",
    "Contoso store?\n",
    "\n",
    "1 Contoso Catalog Store\n",
    "\n",
    "2 Contoso North America Online Store\n",
    "\n",
    "3 Contoso Asia Online Store\n",
    "\n",
    "4 Contoso North America Reseller"
   ]
  },
  {
   "cell_type": "markdown",
   "metadata": {},
   "source": []
  },
  {
   "cell_type": "markdown",
   "metadata": {},
   "source": []
  },
  {
   "cell_type": "markdown",
   "metadata": {},
   "source": []
  },
  {
   "cell_type": "markdown",
   "metadata": {},
   "source": [
    "4"
   ]
  }
 ],
 "metadata": {
  "language_info": {
   "name": "python"
  }
 },
 "nbformat": 4,
 "nbformat_minor": 2
}
