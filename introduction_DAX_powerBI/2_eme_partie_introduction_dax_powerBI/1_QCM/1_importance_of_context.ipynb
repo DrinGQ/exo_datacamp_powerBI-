{
 "cells": [
  {
   "cell_type": "markdown",
   "metadata": {},
   "source": [
    "The importance of Context\n",
    "Context is important to understand when writing DAX to ensure that your calculations provide the expected result.\n",
    "\n",
    "Additionally, variables and the `CALCULATE()` functions are useful for creating complex calculations. Let's see if you can differentiate between True and False on these statements about context, variables, and `CALCULATE()`."
   ]
  },
  {
   "cell_type": "markdown",
   "metadata": {},
   "source": [
    "![si ça n'affiche pas, regardez dossier img](1_QCM/img/réponse.png)"
   ]
  }
 ],
 "metadata": {
  "language_info": {
   "name": "python"
  }
 },
 "nbformat": 4,
 "nbformat_minor": 2
}
