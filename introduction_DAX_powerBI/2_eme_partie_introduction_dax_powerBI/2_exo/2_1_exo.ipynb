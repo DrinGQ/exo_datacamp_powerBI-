{
 "cells": [
  {
   "cell_type": "markdown",
   "metadata": {},
   "source": [
    "Using variables\n",
    "\n",
    "Since they started trading, Adventure Works has never increased prices even when inflation has risen.\n",
    "\n",
    "The leadership team would like to understand what total sales would look like had they taken into consideration inflation when theu first started trading."
   ]
  },
  {
   "cell_type": "markdown",
   "metadata": {},
   "source": [
    "### instruction 1\n",
    "\n",
    "Open `2_1_using_variables.pbix` from the Exercises folder.\n",
    "\n",
    "For this exercise, rename `Page 1` to \"Variables\"."
   ]
  },
  {
   "cell_type": "markdown",
   "metadata": {},
   "source": [
    "### instruction 2\n",
    "\n",
    "Create a new measure called \"TotalSales_w_increase\".\n",
    "\n",
    "For the measure, define a variable called \"Increase\" and set it to 5% (0.05).\n",
    "\n",
    "In the return statement of the variable, calculate the total sales, and add the 5% increase of the total sales, like this:\n",
    "\n",
    "`'Calculations'[TotalSales] +\n",
    "('Calculations' [_ _ _ _] * increase)`\n",
    "\n",
    "**Note**: To start a new line in the formula bar, use `SHIFT + ENTER`\n",
    "\n",
    "\n"
   ]
  },
  {
   "cell_type": "markdown",
   "metadata": {},
   "source": [
    "### instruction 3\n",
    "\n",
    "Format `TotalSales_W_increase` so that it displays as a $ with no decimal points"
   ]
  },
  {
   "cell_type": "markdown",
   "metadata": {},
   "source": [
    "### instruction 4\n",
    "\n",
    "In the *Report view*, create two Card visuals that show `TotalSales` and `TotalSales_w_increase`"
   ]
  },
  {
   "cell_type": "markdown",
   "metadata": {},
   "source": [
    "### instruction 5\n",
    "\n",
    "What is the new total sales with the 5% increase\n",
    "applied?\n",
    "\n",
    "1 $176M\n",
    "\n",
    "2 $31M\n",
    "\n",
    "3 $44M"
   ]
  },
  {
   "cell_type": "markdown",
   "metadata": {},
   "source": [
    "réponse = 2 "
   ]
  }
 ],
 "metadata": {
  "language_info": {
   "name": "python"
  }
 },
 "nbformat": 4,
 "nbformat_minor": 2
}
