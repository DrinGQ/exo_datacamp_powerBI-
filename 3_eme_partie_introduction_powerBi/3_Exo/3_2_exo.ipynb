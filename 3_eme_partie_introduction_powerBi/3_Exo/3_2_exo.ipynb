{
 "cells": [
  {
   "cell_type": "markdown",
   "metadata": {},
   "source": [
    "Using the slicer\n",
    "\n",
    "Let's apply some more advanced formatting to our report.\n",
    "\n",
    "You find that the slicer in the top right takes up a bit too much space in the report. There are a lot of categories and it would be better to not show them all but enable users to select from a dropdown menu instead.\n",
    "\n",
    "*If you lost progress, close any open reports and load `3_4_using_the_slicer.pbix` from the Exercises folder on the desktop.*\n",
    "\n"
   ]
  },
  {
   "cell_type": "markdown",
   "metadata": {},
   "source": [
    "### instruction 1\n",
    "\n",
    "Go to the formatting options and turn off the slicer header"
   ]
  },
  {
   "cell_type": "markdown",
   "metadata": {},
   "source": [
    "### instruction 2\n",
    "\n",
    "Change the slicer to a dropdown box and make sure nothing is being selected"
   ]
  },
  {
   "cell_type": "markdown",
   "metadata": {},
   "source": [
    "### instruction 3\n",
    "\n",
    "Question: What style options are available for this slicer, which uses a variable with text data type?\n",
    "\n",
    "1 Vertical list\n",
    "\n",
    "2 Dropdown\n",
    "\n",
    "3 Tile\n",
    "\n",
    "4 All of the above"
   ]
  },
  {
   "cell_type": "markdown",
   "metadata": {},
   "source": []
  },
  {
   "cell_type": "markdown",
   "metadata": {},
   "source": []
  },
  {
   "cell_type": "markdown",
   "metadata": {},
   "source": []
  },
  {
   "cell_type": "markdown",
   "metadata": {},
   "source": []
  },
  {
   "cell_type": "markdown",
   "metadata": {},
   "source": [
    "4"
   ]
  }
 ],
 "metadata": {
  "language_info": {
   "name": "python"
  }
 },
 "nbformat": 4,
 "nbformat_minor": 2
}
