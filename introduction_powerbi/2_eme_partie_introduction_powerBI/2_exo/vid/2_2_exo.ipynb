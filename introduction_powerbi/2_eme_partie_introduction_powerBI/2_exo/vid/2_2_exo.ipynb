{
 "cells": [
  {
   "cell_type": "markdown",
   "metadata": {},
   "source": [
    "Field aggregation\n",
    "\n",
    "Now that we've loaded `DimCustomer` and cleaned it up,\n",
    "let's create a visualization with it. Power Bl automatically\n",
    "**sums** up numerical fields in a visualization. For example,\n",
    "the default is to show the sum of all the sale totals, rather\n",
    "than the average sale total. In this exercise, you will try a\n",
    "new aggregation.\n",
    "\n",
    "*If you lost progress, close any open reports and load\n",
    "`2_2_field_agg.pbix` from the Exercises folder on the desktop.*\n"
   ]
  },
  {
   "cell_type": "markdown",
   "metadata": {},
   "source": [
    "### instruction 1 \n",
    "\n",
    ". Click \"Close & Apply\" to close Power Query in case\n",
    "it is still open.\n",
    "\n",
    ". Check that Power BI recognized a relationship\n",
    "between `FactSale` and `DimCustomer`.\n",
    "\n",
    ". Add a new page tab in the *Report view*.\n"
   ]
  },
  {
   "cell_type": "markdown",
   "metadata": {},
   "source": [
    "### instruction 2\n",
    "\n",
    "Make a Clustered Column Chart using `Buying Group`\n",
    "from `DimCustomer` and `Total Including Tax` from\n",
    "`FactSale` .\n"
   ]
  },
  {
   "cell_type": "markdown",
   "metadata": {},
   "source": [
    "### instruction 3 \n",
    "\n",
    "\n",
    "Change it so that the value is the **minimum** of `Total Including Tax`"
   ]
  },
  {
   "cell_type": "markdown",
   "metadata": {},
   "source": [
    "### instruction 4\n",
    "\n",
    "**According to total including tax, how much was the cheapest sale made to Tailspin Toys (answer format: 1.1)?**\n"
   ]
  },
  {
   "cell_type": "markdown",
   "metadata": {},
   "source": []
  },
  {
   "cell_type": "markdown",
   "metadata": {},
   "source": []
  },
  {
   "cell_type": "markdown",
   "metadata": {},
   "source": []
  },
  {
   "cell_type": "markdown",
   "metadata": {},
   "source": []
  },
  {
   "cell_type": "markdown",
   "metadata": {},
   "source": [
    "5.52"
   ]
  }
 ],
 "metadata": {
  "language_info": {
   "name": "python"
  }
 },
 "nbformat": 4,
 "nbformat_minor": 2
}
