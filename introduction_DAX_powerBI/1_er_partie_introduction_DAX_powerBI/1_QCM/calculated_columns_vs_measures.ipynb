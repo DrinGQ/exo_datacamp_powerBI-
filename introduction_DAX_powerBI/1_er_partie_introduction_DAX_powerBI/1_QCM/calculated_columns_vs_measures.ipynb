{
 "cells": [
  {
   "cell_type": "markdown",
   "metadata": {},
   "source": [
    "Power BI enables you to create custom calculations to carry out analysis on the fly.\n",
    "\n",
    "By utilizing DAX, you can create custom calculations via calculated columns or measures. However, it's important to understand the differences between them to ensure you are using them correctly.\n",
    "\n"
   ]
  },
  {
   "cell_type": "markdown",
   "metadata": {},
   "source": [
    "![si ça n'affiche pas, regardez dossier img ](/introduction_DAX_powerBI/1_er_partie_introduction_DAX_powerBI/1_QCM/img/réponse.png)\n"
   ]
  }
 ],
 "metadata": {
  "language_info": {
   "name": "python"
  }
 },
 "nbformat": 4,
 "nbformat_minor": 2
}
