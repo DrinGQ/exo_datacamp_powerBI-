{
 "cells": [
  {
   "cell_type": "markdown",
   "metadata": {},
   "source": [
    "Sales by category and year\n",
    "\n",
    "In previous exercises, you've calculated revenue by using a `SUM()` function to total the `LinePrice` column. \n",
    "\n",
    "Now you'll need to calculate the total sales and filter by category Bikes and order year 2018.\n",
    "\n",
    "In this exercise, we will be utilizing the `CALCULATE()` function. \n",
    "\n",
    "You can read up on this function in Microsoft Documentation.\n",
    "\n",
    "*If you lost progress, close any open reports and load `2_3_calculate.pbix` from the Exercises folder.*"
   ]
  },
  {
   "cell_type": "markdown",
   "metadata": {},
   "source": [
    "### instruction 1\n",
    "\n",
    "For this exercise, create a neww page in the report called \"Sales\""
   ]
  },
  {
   "cell_type": "markdown",
   "metadata": {},
   "source": [
    "### instruction 2\n",
    "\n",
    "Create a measure called `2018 Bikes Revenue` which\n",
    "calculates the sum of line price and filters on the product category \"Bikes\" and `YEAR(Sales[OrderDate])` year being 2018."
   ]
  },
  {
   "cell_type": "markdown",
   "metadata": {},
   "source": [
    "### instruction 3\n",
    "\n",
    "Create a Card visual that shows your new measure `2018 Bikes Revenue`"
   ]
  },
  {
   "cell_type": "markdown",
   "metadata": {},
   "source": [
    "### instruction 4\n",
    "\n",
    "How much revenue did Bikes generate in 2018? Format X.XXM (i.e 1.32M)\n"
   ]
  },
  {
   "cell_type": "markdown",
   "metadata": {},
   "source": [
    "réponse = 6.37M"
   ]
  }
 ],
 "metadata": {
  "language_info": {
   "name": "python"
  }
 },
 "nbformat": 4,
 "nbformat_minor": 2
}
