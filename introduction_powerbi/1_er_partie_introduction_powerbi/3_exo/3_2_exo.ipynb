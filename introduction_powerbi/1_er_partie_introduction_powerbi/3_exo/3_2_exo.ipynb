{
 "cells": [
  {
   "cell_type": "markdown",
   "metadata": {},
   "source": [
    "More columns\n",
    "\n",
    "Wide World Importers sells two types of products: chilled\n",
    "and dry. This is recorded in the database because chilled\n",
    "products require a different kind of packaging. To compare\n",
    "these product types, you will add the quantity of products\n",
    "sold that are chilled or dry to the column chart.\n",
    "\n",
    "*If you lost progress, close any open reports and load\n",
    "`1_4_more_columns.pbix` from the Exercises folder on the\n",
    "desktop.*\n"
   ]
  },
  {
   "cell_type": "markdown",
   "metadata": {},
   "source": [
    "### instruction 1 \n",
    "\n",
    "Select the *Quantity of Items Sold* column chart "
   ]
  },
  {
   "cell_type": "markdown",
   "metadata": {},
   "source": [
    "### instruction 2 \n",
    "\n",
    "Select `Total Dry Items` and `total Chiller Items` in *Fields* pane"
   ]
  },
  {
   "cell_type": "markdown",
   "metadata": {},
   "source": [
    "### instruction 3 \n",
    "\n",
    "Question: Based on the result, which statement is\n",
    "true about Wide World Importers?\n",
    "\n",
    "1 Chilled items take up about 25% of the items sold\n",
    "every year.\n",
    "\n",
    "2 It seems like Wide World Importers only started selling\n",
    "chilled items in 2016.\n",
    "\n",
    "3 Most of the items Wide World Importers have sold are\n",
    "chilled."
   ]
  },
  {
   "cell_type": "markdown",
   "metadata": {},
   "source": []
  },
  {
   "cell_type": "markdown",
   "metadata": {},
   "source": []
  },
  {
   "cell_type": "markdown",
   "metadata": {},
   "source": []
  },
  {
   "cell_type": "markdown",
   "metadata": {},
   "source": []
  },
  {
   "cell_type": "markdown",
   "metadata": {},
   "source": []
  },
  {
   "cell_type": "markdown",
   "metadata": {},
   "source": [
    "2"
   ]
  }
 ],
 "metadata": {
  "language_info": {
   "name": "python"
  }
 },
 "nbformat": 4,
 "nbformat_minor": 2
}
