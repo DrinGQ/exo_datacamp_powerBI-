{
 "cells": [
  {
   "cell_type": "markdown",
   "metadata": {},
   "source": [
    "Your first quick measure\n",
    "\n",
    "Quick Measures are a really powerful feature in DAX that enables you to carry out complex calculations without needing to write the code from scratch. \n",
    "\n",
    "You can learn more about Quick Measure from Microsoft.\n",
    "\n",
    "*If you lost progress, close any open reports and load `3_3_quick_measure.pbix` from the Exercises folder.*"
   ]
  },
  {
   "cell_type": "markdown",
   "metadata": {},
   "source": [
    "### instruction 1\n",
    "\n",
    "Add a new page and call it \"Quick Measure\""
   ]
  },
  {
   "cell_type": "markdown",
   "metadata": {},
   "source": [
    "### instruction 2\n",
    "\n",
    "Create a new quick measure that calculates quarter-over-quarter change for `TotalSales` over **one** period.\n",
    "\n",
    "In case it is not possible to click the \"OK\" button in *Quick Measures* window, you can always zoom out by using the buttons at the bottom-right of your screen."
   ]
  },
  {
   "cell_type": "markdown",
   "metadata": {},
   "source": [
    "### instruction 3\n",
    "\n",
    "Create a Line chart and clustered column chart to show the `Total Sales QoQ%` and `TotalSales` by Year and Quarter using the Date Hierarchy in `Dates` table."
   ]
  },
  {
   "cell_type": "markdown",
   "metadata": {},
   "source": [
    "### instruction 4\n",
    "\n",
    "What was the 'Total Sales QoQ% for Q4 in 2018?\n",
    "\n",
    "1 -27.66%\n",
    "\n",
    "2 45.30%\n",
    "\n",
    "3 3.00%\n",
    "\n",
    "4 11.24%"
   ]
  },
  {
   "cell_type": "markdown",
   "metadata": {},
   "source": [
    "réponse = 3 "
   ]
  }
 ],
 "metadata": {
  "language_info": {
   "name": "python"
  }
 },
 "nbformat": 4,
 "nbformat_minor": 2
}
