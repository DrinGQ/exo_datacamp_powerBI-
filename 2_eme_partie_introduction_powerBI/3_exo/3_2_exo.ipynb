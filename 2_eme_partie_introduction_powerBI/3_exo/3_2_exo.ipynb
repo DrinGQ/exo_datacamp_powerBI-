{
 "cells": [
  {
   "cell_type": "markdown",
   "metadata": {},
   "source": [
    "Formatting currency\n",
    "\n",
    "Now that you know more about formatting data types. Let's go back to the first report you made, which should be the first page tab titled \"Sales Data\". Take a look at the formatting of the data in the table. Let's improve the formatting of the `Profit` and the T`otal Including Tax` columns so it's immediately clear they are monetary values, unlike `Quantity` .\n",
    "\n",
    "*If you lost progress, close any open reports and load `2_4_format_currency.pbix` from the Exercises folder on the desktop.*\n"
   ]
  },
  {
   "cell_type": "markdown",
   "metadata": {},
   "source": [
    "### instruction 1\n",
    "\n",
    ". In the Data view of `FactSale` , select the\n",
    "`Total Including Tax` column.\n",
    "\n",
    ". Using *Column tools*, change the format *to Currency*."
   ]
  },
  {
   "cell_type": "markdown",
   "metadata": {},
   "source": [
    "### instruction 2\n",
    "\n",
    "Change the number of decimal placees shown to 2 instead of *Auto*"
   ]
  },
  {
   "cell_type": "markdown",
   "metadata": {},
   "source": [
    "### instruction 3\n",
    "\n",
    ". Change the default aggregation from *Sum* to\n",
    "*Average* .\n",
    "\n",
    ". Repeat the same format and decimal place changes\n",
    "to the `Profit` column."
   ]
  },
  {
   "cell_type": "markdown",
   "metadata": {},
   "source": [
    "### instruction 4\n",
    "\n",
    ". Add a card to your report and select\n",
    "`Total Including Tax` .\n",
    "\n",
    ". If applicable, clear any selections on the `Employee` slicer so that all employees are considered."
   ]
  },
  {
   "cell_type": "markdown",
   "metadata": {},
   "source": [
    "### instruction 5\n",
    "\n",
    "What does the \"Total Including Tax\" card now display? (answer format: $111.11)\n"
   ]
  },
  {
   "cell_type": "markdown",
   "metadata": {},
   "source": []
  },
  {
   "cell_type": "markdown",
   "metadata": {},
   "source": []
  },
  {
   "cell_type": "markdown",
   "metadata": {},
   "source": []
  },
  {
   "cell_type": "markdown",
   "metadata": {},
   "source": [
    "$865.82"
   ]
  }
 ],
 "metadata": {
  "language_info": {
   "name": "python"
  }
 },
 "nbformat": 4,
 "nbformat_minor": 2
}
