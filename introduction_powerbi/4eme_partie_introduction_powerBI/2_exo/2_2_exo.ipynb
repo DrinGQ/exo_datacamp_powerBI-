{
 "cells": [
  {
   "cell_type": "markdown",
   "metadata": {},
   "source": [
    "Creating a hierarchy\n",
    "\n",
    "Sometimes you want to drill down into a chart and see different levels of your data. \n",
    "\n",
    "With hierarchies, you can add this functionality to your Power BI reports. \n",
    "\n",
    "Let's create a date hierarchy that looks like this: Year-Quarter-Month-Day.\n",
    "\n",
    "*If you lost progress, close any open reports and load `4_2_creating_a_hierarchy.pbix` from the Exercises folder on the desktop.*\n",
    "\n"
   ]
  },
  {
   "cell_type": "markdown",
   "metadata": {},
   "source": [
    "### instruction 1\n",
    "\n",
    "Navigate to the `DimDate` table in the *Data View*"
   ]
  },
  {
   "cell_type": "markdown",
   "metadata": {},
   "source": [
    "### instruction 2\n",
    "\n",
    "Create a hierarchy that starts with `Year` , goes on to the `QuarterFull` , then the `MonthName` , and ends with the `DateKey`\n",
    "\n",
    "If the drag functionality isn't working, you can right-click `DimDate`'s `Year` in the *Fields* pane and select \"Create hierarchy\". \n",
    "\n",
    "From there, you can right-click the necessary fields and select \"Add to hierarchy\"."
   ]
  },
  {
   "cell_type": "markdown",
   "metadata": {},
   "source": [
    "### instruction 3\n",
    "\n",
    "Rename the hierarchy to  `Date Hierarchy`"
   ]
  },
  {
   "cell_type": "markdown",
   "metadata": {},
   "source": [
    "### instruction 4\n",
    "\n",
    "In the column chart on the *Report view*, replace the `ShortMonth` *Axis value* of the column chart by the `Date Hierarchy`."
   ]
  },
  {
   "cell_type": "markdown",
   "metadata": {},
   "source": [
    "### instruction 5\n",
    "\n",
    "Use the drill controls in the top right corner of the visual to explore the different levels. \n",
    "\n",
    "Click the single down arrow to enable drill mode."
   ]
  },
  {
   "cell_type": "markdown",
   "metadata": {},
   "source": [
    "### instruction 6\n",
    "\n",
    "**Which quarter across all years had the highest amount (format example: Y2020 Q1)?**"
   ]
  },
  {
   "cell_type": "markdown",
   "metadata": {},
   "source": []
  },
  {
   "cell_type": "markdown",
   "metadata": {},
   "source": []
  },
  {
   "cell_type": "markdown",
   "metadata": {},
   "source": []
  },
  {
   "cell_type": "markdown",
   "metadata": {},
   "source": [
    "Y2017 Q4"
   ]
  }
 ],
 "metadata": {
  "language_info": {
   "name": "python"
  }
 },
 "nbformat": 4,
 "nbformat_minor": 2
}
