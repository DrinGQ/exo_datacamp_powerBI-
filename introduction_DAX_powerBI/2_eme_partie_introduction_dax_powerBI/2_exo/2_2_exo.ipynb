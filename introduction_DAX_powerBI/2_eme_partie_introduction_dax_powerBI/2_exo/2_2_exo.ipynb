{
 "cells": [
  {
   "cell_type": "markdown",
   "metadata": {},
   "source": [
    "Iterator functions\n",
    "\n",
    "Iterator functions are very useful for running calculations without the need to create calculated columns. \n",
    "\n",
    "In this exercise we will be comparing the output of a `AVERAGE()` vs. `AVERAGEX()` .\n",
    "\n",
    "*If you lost progress, close any open reports and load `2_2_iterators.pbix` from the Exercises folder.*\n",
    "\n"
   ]
  },
  {
   "cell_type": "markdown",
   "metadata": {},
   "source": [
    "### instruction 1\n",
    "\n",
    "Add a new page and call it \"Avg Profit\""
   ]
  },
  {
   "cell_type": "markdown",
   "metadata": {},
   "source": [
    "### instruction 2\n",
    "\n",
    "Create a new measure `AvgProfit` which calculates the average of all the profit"
   ]
  },
  {
   "cell_type": "markdown",
   "metadata": {},
   "source": [
    "### instruction 3\n",
    "\n",
    "Create a new measure called `AvgProfit_x` that\n",
    "uses the `AVERAGEX()` function to subtract line cost from line price.\n",
    "\n",
    "Format `AvgProfit_x` so that it displays as a\n",
    "currency with no decimal points."
   ]
  },
  {
   "cell_type": "markdown",
   "metadata": {},
   "source": [
    "### instruction 4\n",
    "\n",
    "Create a Clustered column chart that shows `AvgProfit` and `AvgProfit_x`"
   ]
  },
  {
   "cell_type": "markdown",
   "metadata": {},
   "source": [
    "### instruction 5\n",
    "\n",
    "Is the output of 'AvgProfit and 'AvgProfit_x' the\n",
    "same?\n",
    "\n",
    "1 Yes\n",
    "\n",
    "2 No"
   ]
  },
  {
   "cell_type": "markdown",
   "metadata": {},
   "source": [
    "réponse = 1"
   ]
  }
 ],
 "metadata": {
  "language_info": {
   "name": "python"
  }
 },
 "nbformat": 4,
 "nbformat_minor": 2
}
