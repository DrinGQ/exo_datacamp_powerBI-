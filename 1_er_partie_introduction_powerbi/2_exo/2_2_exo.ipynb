{
 "cells": [
  {
   "cell_type": "markdown",
   "metadata": {},
   "source": [
    "Your first visualization\n",
    "\n",
    "Time to start loading your own data!\n",
    "\n",
    "In this exercise, FactSale.csv has been loaded and there\n",
    "is already a bar chart with the quantity of items ever sold\n",
    "by Wide World Importers (WWI). This would be more\n",
    "meaningful if we segmented the graph into years. Let's\n",
    "load another data file that contains that informations.\n",
    "Note that you can use the undo-button in the top left\n",
    "corner to undo any edits you made.\n",
    "\n",
    "If you lost progress, close any open reports and load\n",
    "1_0_first_viz.pbix from the Exercises folder on the\n",
    "desktop."
   ]
  },
  {
   "cell_type": "markdown",
   "metadata": {},
   "source": [
    "### instruction 1 \n",
    "\n",
    "From the bottom left corner of the file, change the\n",
    "page you are viewing from `Sales Data` to `Page 1`.\n",
    "You can delete the `Sales Data` page as you will no\n",
    "longer be using it. "
   ]
  },
  {
   "cell_type": "markdown",
   "metadata": {},
   "source": [
    "### instruction 2\n",
    "Using the Get Data button, select Text/CSV from the list\n",
    "and load `DimDate.csv` from `Datasets/WWI` . Make sure to\n",
    "use the file in the `WWI` folder."
   ]
  },
  {
   "cell_type": "markdown",
   "metadata": {},
   "source": [
    "### instruction 3\n",
    "In the Model view, create a relationship between\n",
    "`FactSale`'s `Invoice Date Key` and `DimDate`'s `Date`."
   ]
  },
  {
   "cell_type": "markdown",
   "metadata": {},
   "source": [
    "### instruction 4 \n",
    "\n",
    ". In the Report view, **select the existing bar chart** and\n",
    "then select `Calendar Year` from `DimDate` in the\n",
    "Data pane.\n",
    "\n",
    ". Make sure to use `Calendar Year` instead of\n",
    "`Calendar Year Label` . You can expand the Data\n",
    "pane by dragging its left-hand border."
   ]
  },
  {
   "cell_type": "markdown",
   "metadata": {},
   "source": [
    "### instruction 5\n",
    "\n",
    "In the *Visualizations* pane, drag `Calendar Year` to *X-axis*\n",
    "rather than *Y-axis*."
   ]
  },
  {
   "cell_type": "markdown",
   "metadata": {},
   "source": [
    "### instruction 6\n",
    "\n",
    "Based on your resulting visualization, which\n",
    "statement is true?\n",
    "\n",
    "1 Quantity of items sold per year has decreased every\n",
    "year.\n",
    "\n",
    "2 Quantity of items sold per year has remained about\n",
    "the same through all years.\n",
    "\n",
    "3 Quantity of items sold per year has only increased\n",
    "from 2013 to 2015.\n",
    "\n",
    "4 Quantity of items sold per year has been increasing\n",
    "every year."
   ]
  },
  {
   "cell_type": "markdown",
   "metadata": {},
   "source": []
  },
  {
   "cell_type": "markdown",
   "metadata": {},
   "source": []
  },
  {
   "cell_type": "markdown",
   "metadata": {},
   "source": []
  },
  {
   "cell_type": "markdown",
   "metadata": {},
   "source": []
  },
  {
   "cell_type": "markdown",
   "metadata": {},
   "source": []
  },
  {
   "cell_type": "markdown",
   "metadata": {},
   "source": [
    "3"
   ]
  }
 ],
 "metadata": {
  "kernelspec": {
   "display_name": "Python 3",
   "language": "python",
   "name": "python3"
  },
  "language_info": {
   "name": "python",
   "version": "3.12.0"
  }
 },
 "nbformat": 4,
 "nbformat_minor": 2
}
