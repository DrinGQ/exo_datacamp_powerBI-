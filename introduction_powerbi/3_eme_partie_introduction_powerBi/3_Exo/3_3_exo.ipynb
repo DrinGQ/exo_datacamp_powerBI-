{
 "cells": [
  {
   "cell_type": "markdown",
   "metadata": {},
   "source": [
    "Making it look good\n",
    "\n",
    "Before your report is ready to share with other users, it's worth taking a final pass and making sure everything is looking great. \n",
    "\n",
    "In this exercise, you'll format the report by changing the background color and making sure every visual has an appropriate size.\n",
    "\n",
    "*If you lost progress, close any open reports and load `3_5_making_it_look_good.pbix` from the Exercises folder on the desktop.*\n",
    "\n"
   ]
  },
  {
   "cell_type": "markdown",
   "metadata": {},
   "source": [
    "### instruction 1\n",
    "\n",
    "Change the theme of the report to the *Sunset* theme"
   ]
  },
  {
   "cell_type": "markdown",
   "metadata": {},
   "source": [
    "### instruction 2\n",
    "\n",
    "Adjust the height of the dropdown box to be the same as the multi-row card."
   ]
  },
  {
   "cell_type": "markdown",
   "metadata": {},
   "source": [
    "### instruction 3\n",
    "\n",
    "What value do you need to change to move the\n",
    "card or another visual to the right or left without resizing?\n",
    "\n",
    "1 Horizontal\n",
    "\n",
    "2 Vertical\n",
    "\n",
    "3 Width\n",
    "\n",
    "4 Height"
   ]
  },
  {
   "cell_type": "markdown",
   "metadata": {},
   "source": []
  },
  {
   "cell_type": "markdown",
   "metadata": {},
   "source": []
  },
  {
   "cell_type": "markdown",
   "metadata": {},
   "source": []
  },
  {
   "cell_type": "markdown",
   "metadata": {},
   "source": []
  },
  {
   "cell_type": "markdown",
   "metadata": {},
   "source": [
    "1"
   ]
  }
 ],
 "metadata": {
  "language_info": {
   "name": "python"
  }
 },
 "nbformat": 4,
 "nbformat_minor": 2
}
