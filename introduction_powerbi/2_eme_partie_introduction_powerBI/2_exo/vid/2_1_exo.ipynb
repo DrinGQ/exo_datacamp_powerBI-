{
 "cells": [
  {
   "cell_type": "markdown",
   "metadata": {},
   "source": [
    "Transform before load\n",
    "\n",
    "Raw data usually doesn't arrive in the perfect form when\n",
    "you account for things like human errors, bugs, and file\n",
    "conversion. Power BI accounts for this with the Power\n",
    "Query Editor which allows you to transform data before\n",
    "loading it. In this exercise, you will load another dimension\n",
    "called `DimCustomer` , except unlike the others, this file will\n",
    "need to be edited prior to loading.\n",
    "\n",
    "*If you lost progress, close any open reports and load\n",
    "`2_1_transform_load.pbix` from the Exercises folder on\n",
    "the desktop.*"
   ]
  },
  {
   "cell_type": "markdown",
   "metadata": {},
   "source": [
    "### instruction 1\n",
    ". Open the **csv** file `DimCustomer.csv` from\n",
    "`Datasets/WWI` folder on the desktop.\n",
    "\n",
    ". Select the *Transform Data button* to navigate to\n",
    "Power Query as shown in navigation cheat sheet.\n"
   ]
  },
  {
   "cell_type": "markdown",
   "metadata": {},
   "source": [
    "### instruction 2 \n",
    "\n",
    ". Remove the first row. It contains mostly blanks and\n",
    "does not provide any information.\n",
    "\n",
    ". Make the resulting first row the header row."
   ]
  },
  {
   "cell_type": "markdown",
   "metadata": {},
   "source": [
    "### instruction 3\n",
    "\n",
    ". Delete the columns `Valid From` and `Valid To`.\n",
    "\n",
    ". Close and apply."
   ]
  },
  {
   "cell_type": "markdown",
   "metadata": {},
   "source": [
    "### instruction 4 \n",
    "\n",
    "In the *Fields* pane, select the *Edit Query* menu option from\n",
    "`DimCustomer`"
   ]
  },
  {
   "cell_type": "markdown",
   "metadata": {},
   "source": [
    "### instruction 5 \n",
    "\n",
    "**In Power Query Editor window that has opened, how many steps are listed in the \"Applied Steps\" section?**"
   ]
  },
  {
   "cell_type": "markdown",
   "metadata": {},
   "source": []
  },
  {
   "cell_type": "markdown",
   "metadata": {},
   "source": []
  },
  {
   "cell_type": "markdown",
   "metadata": {},
   "source": []
  },
  {
   "cell_type": "markdown",
   "metadata": {},
   "source": []
  },
  {
   "cell_type": "markdown",
   "metadata": {},
   "source": []
  },
  {
   "cell_type": "markdown",
   "metadata": {},
   "source": [
    "6"
   ]
  }
 ],
 "metadata": {
  "language_info": {
   "name": "python"
  }
 },
 "nbformat": 4,
 "nbformat_minor": 2
}
