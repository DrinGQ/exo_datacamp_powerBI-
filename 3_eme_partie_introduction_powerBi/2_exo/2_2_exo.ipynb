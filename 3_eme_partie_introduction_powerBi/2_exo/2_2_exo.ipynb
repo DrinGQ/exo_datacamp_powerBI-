{
 "cells": [
  {
   "cell_type": "markdown",
   "metadata": {},
   "source": [
    "Editing properties\n",
    "\n",
    "Let's keep working on this report and make it look even nicer. \n",
    "\n",
    "This time around, you are going to edit the bottom two visuals in the report. You want to see the data in a summarized way so the table needs to become a matrix. \n",
    "\n",
    "Additionally, you want to show the amount by month in a bar chart.\n",
    "\n",
    "*If you lost progress, close any open reports and load `3_2_editing_properties.pbix` from the `Exercises` folder on the desktop.*\n",
    "\n"
   ]
  },
  {
   "cell_type": "markdown",
   "metadata": {},
   "source": [
    "### instruction 1\n",
    "\n",
    "Change the table to a matrix"
   ]
  },
  {
   "cell_type": "markdown",
   "metadata": {},
   "source": [
    "### instruction 2\n",
    "\n",
    "Go to the *Format* menu under the *Visualizations* pane and change the text size of the *Row Headers* and *Column Headers* to 18."
   ]
  },
  {
   "cell_type": "markdown",
   "metadata": {},
   "source": [
    "### instruction 3\n",
    "\n",
    "Go to the *Values* section to change the font size in the rest of the columns to 18 as well."
   ]
  },
  {
   "cell_type": "markdown",
   "metadata": {},
   "source": [
    "### instruction 4\n",
    "\n",
    "What is the budgeted amount for cell phones (using two decimal points)?\n"
   ]
  },
  {
   "cell_type": "markdown",
   "metadata": {},
   "source": []
  },
  {
   "cell_type": "markdown",
   "metadata": {},
   "source": []
  },
  {
   "cell_type": "markdown",
   "metadata": {},
   "source": []
  },
  {
   "cell_type": "markdown",
   "metadata": {},
   "source": [
    "1,208,041,332.59"
   ]
  }
 ],
 "metadata": {
  "language_info": {
   "name": "python"
  }
 },
 "nbformat": 4,
 "nbformat_minor": 2
}
