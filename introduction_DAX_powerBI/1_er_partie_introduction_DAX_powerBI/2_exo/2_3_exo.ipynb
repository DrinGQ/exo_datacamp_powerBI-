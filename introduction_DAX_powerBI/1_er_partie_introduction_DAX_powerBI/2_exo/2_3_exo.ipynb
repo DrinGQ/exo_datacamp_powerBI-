{
 "cells": [
  {
   "cell_type": "markdown",
   "metadata": {},
   "source": [
    "Profit margin ratio\n",
    "\n",
    "The profit margin ratio compares the total profit to the total sales. \n",
    "\n",
    "It's an important financial metric and it's always expressed as a percentage.\n",
    "\n",
    "In this exercise, you will create a measure to represent the profit margin ratio. \n",
    "\n",
    "`TotalSales` has already been calculated for , but we need **Total Profit**. Luckily, in an earlier exercise, we created a `Profit` column that we can use to make our Total Profit measure.\n",
    "\n",
    "There are two ways to calculate this, one way is by using `DIVIDE()` function.\n",
    "\n",
    "*If you lost progress, close any open reports and load `1_3_profit_margin_ratio.pbix` from the Exercises folder.*\n",
    "\n"
   ]
  },
  {
   "cell_type": "markdown",
   "metadata": {},
   "source": [
    "### instruction 1 \n",
    "\n",
    "For this exercise, create a new page in the report called \"Profit Margin Ratio\""
   ]
  },
  {
   "cell_type": "markdown",
   "metadata": {},
   "source": [
    "### instruction 2\n",
    "\n",
    "Create a `TotalProfit` measure inside the `_Calculations` table, which takes the sum of all the profit"
   ]
  },
  {
   "cell_type": "markdown",
   "metadata": {},
   "source": [
    "### instruction 3 \n",
    "\n",
    "Create a measure called `ProfitMarginRatio` which\n",
    "**divides** `TotalProfit` by `TotalSales` inside the `_Calculations` table. \n",
    "\n",
    "One approach to this calculation would be using the `DIVIDE()` function that takes the 2 other measures as a arguments.\n",
    "\n",
    "Format `ProfitMarginRatio` so that it displays as apercentage with two decimal points."
   ]
  },
  {
   "cell_type": "markdown",
   "metadata": {},
   "source": [
    "### instruction 4 \n",
    "\n",
    "Create a Line chart to visualize the `ProfitMarginRatio` by `Order Year` "
   ]
  },
  {
   "cell_type": "markdown",
   "metadata": {},
   "source": [
    "### instruction 5\n",
    "\n",
    "In which year did Adventure Works achieve the\n",
    "highest profit margin ratio?\n",
    "\n",
    "1 2019\n",
    "\n",
    "2 2018\n",
    "\n",
    "3 2020"
   ]
  },
  {
   "cell_type": "markdown",
   "metadata": {},
   "source": [
    "réponse = 1 "
   ]
  }
 ],
 "metadata": {
  "language_info": {
   "name": "python"
  }
 },
 "nbformat": 4,
 "nbformat_minor": 2
}
