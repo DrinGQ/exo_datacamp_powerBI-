{
 "cells": [
  {
   "cell_type": "markdown",
   "metadata": {},
   "source": [
    "Turning off interactions\n",
    "\n",
    "By default, visualizations on a report page can be used to cross-filter the other visualizations on the page.\n",
    "\n",
    "Sometimes, you want to disable this functionality and keep a chart static regardless of what selections have been made elsewhere in the report. Let's turn off those interactions! \n",
    "\n",
    "Note that you might have to temporarily move a visual to be able to see the circle with the line through it.\n",
    "\n",
    "In this report, we want to make sure the Actual,\n",
    "Forecast, and Budget cards don't change when other\n",
    "elements are selected.\n",
    "\n",
    "*If you lost progress, close any open reports and load `4_4_turning_off_interactions.pbix` from the\n",
    "`Exercises` folder on the desk*\n",
    "\n"
   ]
  },
  {
   "cell_type": "markdown",
   "metadata": {},
   "source": [
    "### instruction 1\n",
    "\n",
    "Select the \"Budget Product Sold\" visual"
   ]
  },
  {
   "cell_type": "markdown",
   "metadata": {},
   "source": [
    "### instruction 2\n",
    "\n",
    "Go into the interaction editing mode in the *Format* tab at the top of the screen"
   ]
  },
  {
   "cell_type": "markdown",
   "metadata": {},
   "source": [
    "### instruction 3\n",
    "\n",
    "Turn off interactions with each of the three cards"
   ]
  },
  {
   "cell_type": "markdown",
   "metadata": {},
   "source": [
    "### instruction 4\n",
    "\n",
    "Exit the interaction editing mode"
   ]
  },
  {
   "cell_type": "markdown",
   "metadata": {},
   "source": [
    "### instruction 5\n",
    "\n",
    "Select the \"TV and Video\" bar in the \"Budget Product Sold\" chart. What is the value of the Budget card? (format example: 11.11bn)\n"
   ]
  },
  {
   "cell_type": "markdown",
   "metadata": {},
   "source": []
  },
  {
   "cell_type": "markdown",
   "metadata": {},
   "source": []
  },
  {
   "cell_type": "markdown",
   "metadata": {},
   "source": []
  },
  {
   "cell_type": "markdown",
   "metadata": {},
   "source": [
    "17.17bn"
   ]
  }
 ],
 "metadata": {
  "language_info": {
   "name": "python"
  }
 },
 "nbformat": 4,
 "nbformat_minor": 2
}
