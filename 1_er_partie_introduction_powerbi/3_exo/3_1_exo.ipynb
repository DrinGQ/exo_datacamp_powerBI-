{
 "cells": [
  {
   "cell_type": "markdown",
   "metadata": {},
   "source": [
    "Slicers\n",
    "\n",
    "Let's continue building on your last report. *If you lost\n",
    "progress, close any open reports and load\n",
    "`1_3_slicers.pbix` from the Exercises folder on the\n",
    "desktop.*\n",
    "\n",
    "We have the fields `Quantity` and `Profit` in our report. It\n",
    "would be interesting to analyze how each Wide World\n",
    "Importers (WWI) salesperson has contributed to the\n",
    "quantity of items sold and the profit generated. To do this,\n",
    "we'll add a new dimension table and a slicer.\n"
   ]
  },
  {
   "cell_type": "markdown",
   "metadata": {},
   "source": [
    "### instruction 1 \n",
    "Load the **Excel** file `DimEmployee.xlsx` from\n",
    "`Datasets/WWI` using the *Excel workbook* button on the\n",
    "top menu. This is located next to the "
   ]
  },
  {
   "cell_type": "markdown",
   "metadata": {},
   "source": [
    "### instruction 2 \n",
    "Create a relationship between `FactSale` 's\n",
    "`Salesperson Key` and `DimEmployee` 's `Employee Key` ."
   ]
  },
  {
   "cell_type": "markdown",
   "metadata": {},
   "source": [
    "### instruction 3 \n",
    "\n",
    "in the *Report view*, add a slicer"
   ]
  },
  {
   "cell_type": "markdown",
   "metadata": {},
   "source": [
    "### instruction 4\n",
    "\n",
    "Add the `Employee` field to the slicer, and change the\n",
    "slicer by going to Format section in the Visualizations\n",
    "pane, you can then navigate to Slicer Settings > Options >\n",
    "Style and switch from Vertical list to Dropdown."
   ]
  },
  {
   "cell_type": "markdown",
   "metadata": {},
   "source": [
    "### instruction 5 \n",
    "\n",
    "**Using the slicer you've just added, how much profit did salesperson \"Taj Shand\" generate for WWI in 2014? Round accordingly to the nearest $1,000. (answer format: $_ _ _K)**"
   ]
  },
  {
   "cell_type": "markdown",
   "metadata": {},
   "source": []
  },
  {
   "cell_type": "markdown",
   "metadata": {},
   "source": []
  },
  {
   "cell_type": "markdown",
   "metadata": {},
   "source": []
  },
  {
   "cell_type": "markdown",
   "metadata": {},
   "source": []
  },
  {
   "cell_type": "markdown",
   "metadata": {},
   "source": []
  },
  {
   "cell_type": "markdown",
   "metadata": {},
   "source": [
    "$295K"
   ]
  }
 ],
 "metadata": {
  "language_info": {
   "name": "python"
  }
 },
 "nbformat": 4,
 "nbformat_minor": 2
}
