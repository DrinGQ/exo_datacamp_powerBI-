{
 "cells": [
  {
   "cell_type": "markdown",
   "metadata": {},
   "source": [
    "Loading existing reports \n",
    "\n",
    "Let's get you started! We provide you with your very own\n",
    "virtual machine running Power BI. It may take a few\n",
    "minutes to load, but it only needs to be set up once.\n",
    "\n",
    "Before you start loading data and creating visualizations,\n",
    "it's important you know how to load existing reports. If at\n",
    "any point in the course you lose progress or get stuck, you\n",
    "can load the corresponding report to re-initialize. In this\n",
    "exercise, well take a look at a report you will be able to\n",
    "create by the end of this chapter.\n",
    "\n",
    "All the reports used in this course are also available for\n",
    "download at the bottom right of the course page if you\n",
    "want to open them locally.\n"
   ]
  },
  {
   "cell_type": "markdown",
   "metadata": {},
   "source": [
    "### instruction 1\n",
    "\n",
    "Close the `EmptyReport` file.\n",
    ". On the desktop, click on the `Exercises folder` and\n",
    "open the report called `1_0_loading.pbix` .\n",
    ". Once the report opens, make sure you are viewing\n",
    "the `Sales Data` page."
   ]
  },
  {
   "cell_type": "markdown",
   "metadata": {},
   "source": [
    "### instruction 2\n",
    "\n",
    "You can enlarge the Power Bl interface by clicking on the\n",
    "full-screen button in the bottom right corner or by\n",
    "zooming out."
   ]
  },
  {
   "cell_type": "markdown",
   "metadata": {},
   "source": [
    "### instruction 3\n",
    "\n",
    "You can also make the canvas area bigger by expanding\n",
    "and collapsing the Filters, Visualizations, and Fields panes\n",
    "by selecting the arrows at the tops of the panes."
   ]
  },
  {
   "cell_type": "markdown",
   "metadata": {},
   "source": [
    "### instruction 4\n",
    "\n",
    "What was the total profit for World Wide Importers?\n"
   ]
  },
  {
   "cell_type": "markdown",
   "metadata": {},
   "source": [
    "Réponse = "
   ]
  },
  {
   "cell_type": "markdown",
   "metadata": {},
   "source": []
  },
  {
   "cell_type": "markdown",
   "metadata": {},
   "source": []
  },
  {
   "cell_type": "markdown",
   "metadata": {},
   "source": []
  },
  {
   "cell_type": "markdown",
   "metadata": {},
   "source": []
  },
  {
   "cell_type": "markdown",
   "metadata": {},
   "source": []
  },
  {
   "cell_type": "markdown",
   "metadata": {},
   "source": []
  },
  {
   "cell_type": "markdown",
   "metadata": {},
   "source": [
    "9.92M"
   ]
  }
 ],
 "metadata": {
  "kernelspec": {
   "display_name": "Python 3",
   "language": "python",
   "name": "python3"
  },
  "language_info": {
   "name": "python",
   "version": "3.12.0"
  }
 },
 "nbformat": 4,
 "nbformat_minor": 2
}
