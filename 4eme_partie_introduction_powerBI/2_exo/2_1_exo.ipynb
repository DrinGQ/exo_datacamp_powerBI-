{
 "cells": [
  {
   "cell_type": "markdown",
   "metadata": {},
   "source": [
    "Looking at the data\n",
    "\n",
    "If you'd like to see the data that Power Bl uses to create a visualization, you can display that data. \n",
    "\n",
    "You can even export the data as an `.xlsx` or `.csv` file so you can open it in Excel later. \n",
    "\n",
    "In this exercise, you'll look at the data and export it to a csv file that you will then open up\n",
    "with Windows' default text editor, Notepad\n",
    "\n",
    "Notepad will open automatically if you double-click on any text file, like `.csv` file."
   ]
  },
  {
   "cell_type": "markdown",
   "metadata": {},
   "source": [
    "### instruction 1\n",
    "\n",
    "Close any open reports and open the\n",
    "`4_1_looking_at_the_data.pbix` report from the Exercises folder on the desktop."
   ]
  },
  {
   "cell_type": "markdown",
   "metadata": {},
   "source": [
    "### instruction 2\n",
    "\n",
    ". Select the clustered column chart.\n",
    "\n",
    ". Display the underlying data."
   ]
  },
  {
   "cell_type": "markdown",
   "metadata": {},
   "source": [
    "### instruction 3\n",
    "\n",
    "Export the data as a `.csv` file and save it on the desktop."
   ]
  },
  {
   "cell_type": "markdown",
   "metadata": {},
   "source": [
    "### instruction 4\n",
    "\n",
    "open the `.csv` file with Notepad to look at the data"
   ]
  },
  {
   "cell_type": "markdown",
   "metadata": {},
   "source": [
    "### instruction 5\n",
    "\n",
    "What is the last character in the csv file?\n"
   ]
  },
  {
   "cell_type": "markdown",
   "metadata": {},
   "source": []
  },
  {
   "cell_type": "markdown",
   "metadata": {},
   "source": []
  },
  {
   "cell_type": "markdown",
   "metadata": {},
   "source": [
    "5"
   ]
  }
 ],
 "metadata": {
  "language_info": {
   "name": "python"
  }
 },
 "nbformat": 4,
 "nbformat_minor": 2
}
